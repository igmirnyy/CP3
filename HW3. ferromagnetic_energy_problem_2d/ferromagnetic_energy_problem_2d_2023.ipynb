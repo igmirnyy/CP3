{
 "cells": [
  {
   "cell_type": "markdown",
   "id": "b698fd64-2a72-4c31-868c-dd8ada50e242",
   "metadata": {},
   "source": [
    "# Энергия ферромагнетика 2D (2023)"
   ]
  },
  {
   "cell_type": "markdown",
   "id": "fe9d5632-1d5c-428a-9b1d-5bcfdb58cb72",
   "metadata": {},
   "source": [
    "### Условие задачи\n",
    "\n",
    "**Дано:**\n",
    "- двумерная решетка молекул, расположенных в узлах кристаллической решетки, размеров $L_x \\times L_y$ с периодическими границами\n",
    "- каждая молекула обладает спином +1 или -1\n",
    "- межмолекулярное взаимодействие описывается константами $J_{ij} = 1$\n",
    "- модель Изинга\n",
    "\n",
    "\n",
    "**Требуется:**\n",
    "- согласно модели Изинга рассчитать нормированное значение средней энергии $\\frac{\\langle E \\rangle}{Lx Ly}$ для указанной решетки молекул при:\n",
    "    - размерах решетки $L_x \\in [2, 3, ..., 8]$, $L_y = 4$\n",
    "    - температурах $kT \\in [1.0, 5.0)$ с шагом $0.1$\n",
    "- сохранить массив средних энергий при помощи `np.save`\n",
    "- вывести время расчета каждой итерации по $Lx$ или по $k T$\n",
    "- отобразить цветовую карту:\n",
    "    - ось абсцисс - $L_x$,\n",
    "    - ось ординат - $k T$,\n",
    "    - цветом отобразить нормированное значение средней энергии $\\frac{\\langle E \\rangle}{Lx Ly}$,\n",
    "    - подписать оси,\n",
    "    - отобразить цветовую шкалу (`colorbar`),\n",
    "    - засечки должны соответствовать значениям $Lx, kT$.\n",
    "- к каждой функции добавить `docstring` с описанием того, что функция делает, всех параметров и возвращаемого значения    \n",
    "\n",
    "**Описание:**\n",
    "\n",
    "**Одномерный случай**\n",
    "\n",
    "Модель Изинга является моделью магнетика. Пусть этот магнетик состоит из молекул, расположенных в узлах регулярной решетки. Пусть всего таких узлов будет $N$ штук, с индексами $i=1,\\ldots, N$.\n",
    "\n",
    "Предположим, что каждая молекула может быть представлена в виде магнитной стрелки, которая всегда либо направлена вдоль некоторой заданной оси, либо в противоположном направлении. То есть каждая молекула $i$ имеет две конфигурации, которые можно описывать с помощью \"спиновой\" переменной $\\sigma_i$. Эта переменная принимает значение $+1$ (параллельно оси, спин направлен вверх) и $-1$ (антипараллельно оси, спин направлен вниз).\n",
    "\n",
    "Пусть $\\sigma = \\{\\sigma_1, \\sigma_2, \\ldots, \\sigma_N\\}$ обозначает набор значений всех $N$ спинов. Имеется $2^N$ различных наборов $\\sigma$, и каждый из них описывает некоторое состояние системы. \n",
    "\n",
    "Гамильтониан системы  состоит из двух частей: первая $E_0$ включает вклад межмолекулярных сил внутри магнетика, а вторая $E_1(\\sigma)$ вклад от взаимодействий каждого спина с внешним магнитным полем (здесь считается нулевым). \n",
    "$$H(\\sigma)=E_0(\\sigma)+E_1(\\sigma)$$\n",
    "\n",
    "В любой физической системе мы предполагаем все взаимодействия инвариантными по отношению к обращению времени, что означает инвариантность $E$ при изменении знаков всех полей и намагниченностей. Энергия должна быть четной функцией от $\\sigma$:\n",
    "$$E_0(\\sigma_1,\\ldots, \\sigma_N)=E_0(-\\sigma_1,\\ldots, -\\sigma_N)$$\n",
    "\n",
    "Энергия системы при нулевом внешнем магнитном поле равна сумме произведений **соседних** спинов на константы взаимодействия $J_{ij}$\n",
    "$$E(\\sigma) = -\\sum_{i} J_{i,i+1}\\sigma_{i}\\sigma_{i+1} $$\n",
    "\n",
    "Вероятность находиться в состоянии $\\sigma$\n",
    "$$P(\\sigma)=\\frac{e^{-\\beta E(\\sigma)}}{Z},$$\n",
    "\tгде $Z = \\sum_{\\sigma} e^{-\\beta E(\\sigma)}-$ статистическая сумма, $\\beta = \\frac{1}{k T}-$ обратная температура, $k-$ константа Больцмана.\n",
    "\t\n",
    "Средняя энергия системы \n",
    "$$\\langle E \\rangle = \\frac{1}{Z}\\sum_{\\{\\sigma \\}} E(\\sigma)e^{-\\frac{E(\\sigma)}{kT}}$$\n",
    "рассчитывается по всевозможным состояниям системы, т.е. всевозможным наборам $\\sigma$.\n",
    "\n",
    "**Двумерный случай**\n",
    "\n",
    "В случае двумерной решетки энергия системы при нулевом внешнем магнитном поле вычисляется следующим образом: \n",
    "$$E(\\sigma) = -\\sum_{i,j} J_{ij}(\\sigma_{i,j}\\sigma_{i+1,j} + \\sigma_{i,j}\\sigma_{i,j+1})$$\n",
    "\n",
    "\n",
    "**Проверка корректности результатов**\n",
    "\n",
    "Нормированное значение средней энергии при температурах $kT \\in [1.0, 5.0)$:\n",
    "\n",
    "- для $L_x=4$\n",
    "\n",
    "```\n",
    " -1.99715844 -1.99396091 -1.98856632 -1.98016965 -1.96786355 -1.95064256\n",
    " -1.9274244  -1.89711215 -1.85871667 -1.81153907 -1.75538029 -1.69071311\n",
    " -1.61874282 -1.54131149 -1.46065977 -1.37911648 -1.29880759 -1.22145424\n",
    " -1.14828469 -1.0800446  -1.01706963 -0.95938399 -0.90679838 -0.85899291\n",
    " -0.8155803  -0.77615005 -0.74029707 -0.70763857 -0.67782287 -0.65053286\n",
    " -0.62548613 -0.60243323 -0.58115501 -0.56145948 -0.5431787  -0.52616582\n",
    " -0.5102923  -0.49544555 -0.48152673 -0.46844889\n",
    "```\n",
    "\n",
    "- для $L_x=5$\n",
    "\n",
    "```\n",
    " -1.99715893 -1.99396296 -1.98857263 -1.98018387 -1.96788363 -1.95063964\n",
    " -1.92729692 -1.89661121 -1.85735639 -1.80853133 -1.74965024 -1.68103752\n",
    " -1.60399878 -1.52075577 -1.43412763 -1.3470633  -1.26219309 -1.18153361\n",
    " -1.10638872 -1.03740747 -0.97472647 -0.918132   -0.86720255 -0.82141645\n",
    " -0.78022445 -0.74309384 -0.70953215 -0.67909749 -0.65140075 -0.62610332\n",
    " -0.60291264 -0.58157686 -0.56187952 -0.54363452 -0.52668165 -0.51088271\n",
    " -0.49611811 -0.48228409 -0.46929029 -0.45705774\n",
    "```\n",
    "\n",
    "**Материалы:**\n",
    "- [Бэкстер Р., Вольский Е. П., Дайхин Л. И. Точно решаемые модели в статистической механике](https://yadi.sk/i/2oY4c0bL08pNiw)\n",
    "- [Пример хорошего `docstring`](https://github.com/numpy/numpy/blob/v1.21.0/numpy/linalg/linalg.py#L313-L395)\n",
    "- [Зиннуров Б.Д., Якименко В.Я. Магнитные свойства модели Изинга в низких размерностях (МКР)](https://miem.hse.ru/data/2018/05/24/1149431665/model_Izinga_-_Zinnurov_Yakimenko.pdf)\n",
    "\n",
    "\n",
    "**Правила оценивания:**\n",
    "\n",
    "- оценка за корректно выполненный расчет для количества молекул в цепочке $L_x$, баллов из 100:\n",
    "```\n",
    "    Lx    =   2,   3,   4,   5,    6,    7,     8\n",
    "    g(Lx) = 1.0, 1.8, 3.3, 6.4, 12.6, 24.9,  50.0\n",
    "```\n",
    "    \n",
    "- штрафы $p(i)$, баллов:\n",
    "    - не выведено время расчета - 20\n",
    "    - не выведены значения средней энергии - 20\n",
    "    - не построена карта - 20\n",
    "    - отсутствует `docstring` - 20\n",
    "    - менее значимые недоработки - 10\n",
    "\n",
    "\n",
    "- итоговая оценка за задание = $\\sum_{Lx=2}^{8}{g(Lx)} - \\sum_{i}{p(i)}$\n"
   ]
  },
  {
   "cell_type": "code",
   "execution_count": 1,
   "id": "74330501",
   "metadata": {},
   "outputs": [],
   "source": [
    "import numpy as np\n",
    "from numba import njit, prange\n",
    "import matplotlib.pyplot as plt\n",
    "from time import perf_counter"
   ]
  },
  {
   "cell_type": "markdown",
   "metadata": {},
   "source": [
    "## Required functions"
   ]
  },
  {
   "cell_type": "code",
   "execution_count": 2,
   "id": "60e753ff",
   "metadata": {},
   "outputs": [],
   "source": [
    "class TimeIt:\n",
    "    \"\"\"\n",
    "    Class which estimates computation time as contextmanager\n",
    "    \"\"\"\n",
    "    def __enter__(self):\n",
    "        \"\"\"\n",
    "        Method which is called at the beginning of the context manager. It saves starting time\n",
    "        Returns:\n",
    "        TimeIt: - object of TimeIt\n",
    "        \"\"\"\n",
    "        self.t = perf_counter()\n",
    "        return self\n",
    "    \n",
    "    def __exit__(self, type, value, traceback):\n",
    "        \"\"\"\n",
    "        Method which is called at the end of the context manager. It counts the time ellapsed\n",
    "        \"\"\"\n",
    "        self.t = perf_counter() - self.t"
   ]
  },
  {
   "cell_type": "code",
   "execution_count": 3,
   "id": "fa3e6c53",
   "metadata": {},
   "outputs": [],
   "source": [
    "@njit(parallel=True)\n",
    "def get_average_izing_model_energy(L_x:int, L_y:int, T_array:np.ndarray) -> np.ndarray:\n",
    "    \"\"\"\n",
    "    Calculates normalized average energy of Izing model for grid (L_x, L_y) for all values of temperature in T_array\n",
    "\n",
    "    Keyword arguments:\n",
    "    L_x: int - size of grid along x axis\n",
    "    L_y: int - size of grid along y axis\n",
    "    T_array: np.ndarray(n) - temperatures represented as kT of model\n",
    "    \n",
    "    Returns:\n",
    "    result: np.ndrray(n) - array of normalized average energies for each temperature of T_array \n",
    "    \"\"\"\n",
    "    N = L_x * L_y\n",
    "    J = 1\n",
    "    result = np.empty(len(T_array), dtype=np.float64)\n",
    "    for t in range(len(T_array)):\n",
    "        T= T_array[t]\n",
    "        average_energy = 0\n",
    "        Z = 0\n",
    "        for n in prange(2**N):\n",
    "            E = 0\n",
    "            k = np.int64(n)\n",
    "            configuration = np.empty(N,dtype=np.int8)\n",
    "            for i in range(N):\n",
    "                configuration[i] = ((k & 1) << 1) - 1\n",
    "                k >>=1\n",
    "            configuration = configuration.reshape(L_x, L_y)\n",
    "            for i in range(L_x):\n",
    "                for j in range(L_y):\n",
    "                    E-= J*configuration[i, j] * (configuration[(i+1)%L_x][j] +  configuration[i][(j+1)%L_y])\n",
    "            probability = np.exp(-E/T)\n",
    "            Z += probability\n",
    "            average_energy += E * probability\n",
    "        result[t] = average_energy/Z/N\n",
    "    return result\n",
    "                \n",
    "                        "
   ]
  },
  {
   "cell_type": "code",
   "execution_count": 4,
   "metadata": {},
   "outputs": [],
   "source": [
    "def simulate(L_x_min: int, L_x_max: int, L_y: int, T_min: float, T_max: float, filepath: str) -> None:\n",
    "    \"\"\"\n",
    "    Calculates normalized average energy of Izing model with grid sizes (x, L_y) where x in range(L_x_min, L_x_max + 1), for all kT in range(T_min, T_max, 0.1). Saves result as np.array(L_x_max-L_x_min, (T_max-T_min)/0.1) at filepath\n",
    "\n",
    "    Keyword arguments:\n",
    "    L_x_min: int - minimal size of grid along x axis\n",
    "    L_x_max: int - maximal size of grid along x axis\n",
    "    L_y: int - size of grid along y axis\n",
    "    T_min: float - minimal value of kT\n",
    "    T_max: float - maximal value of kT\n",
    "\n",
    "    Returns:\n",
    "    None\n",
    "    \"\"\"\n",
    "    L_x_array = np.arange(L_x_min, L_x_max + 1)\n",
    "    T_array = np.arange(T_min, T_max, 0.1)\n",
    "    data = np.empty((len(L_x_array), len(T_array)), dtype=np.float64)\n",
    "    for ind, L_x in enumerate(L_x_array):\n",
    "        with TimeIt() as timer:\n",
    "            data[ind] = get_average_izing_model_energy(L_x, L_y, T_array)\n",
    "        print(f\"Time elapsed for {L_x=} is {timer.t}\")\n",
    "    np.save(\"data.npy\", data)"
   ]
  },
  {
   "cell_type": "code",
   "execution_count": 5,
   "metadata": {},
   "outputs": [],
   "source": [
    "def print_results(filepath: str) -> None:\n",
    "    \"\"\"\n",
    "    Prints average Izing model energies saved in file at filepath \n",
    "\n",
    "    Keyword arguments:\n",
    "    filepath: str - path to file where energies are saved\n",
    "\n",
    "    Returns:\n",
    "    None\n",
    "    \"\"\"\n",
    "    data = np.load(filepath)\n",
    "    for i, values in enumerate(data):\n",
    "        print(f\"L_x = {i + 2}\")\n",
    "        print(values)\n"
   ]
  },
  {
   "cell_type": "code",
   "execution_count": 12,
   "metadata": {},
   "outputs": [],
   "source": [
    "def plot_results(filepath: str) -> None:\n",
    "    \"\"\"\n",
    "    Plots image of normalized average Izing model energies saved in file at filepath \n",
    "\n",
    "    Keyword arguments:\n",
    "    filepath: str - path to file where energies are saved\n",
    "\n",
    "    Returns:\n",
    "    None\n",
    "    \"\"\"\n",
    "    data = np.load(filepath)\n",
    "    plt.figure(figsize=(13,10))\n",
    "    x_ticks = np.arange(len(data))\n",
    "    x_labels = x_ticks + 2\n",
    "    y_ticks = np.arange(0, len(data[0]), 5)\n",
    "    y_labels = np.linspace(1, 5, len(data[0])//5, endpoint=False)\n",
    "    plt.pcolormesh(data.T, cmap=\"inferno\")\n",
    "    plt.xticks(x_ticks, x_labels)\n",
    "    plt.yticks(y_ticks, y_labels)\n",
    "    plt.xlabel(\"$L_x$\")\n",
    "    plt.ylabel(\"$kT$\")\n",
    "    plt.title(\"Normalized average energy of Izing model\")\n",
    "    plt.colorbar()\n",
    "    plt.show()\n",
    "\n"
   ]
  },
  {
   "cell_type": "markdown",
   "metadata": {},
   "source": [
    "## Tests"
   ]
  },
  {
   "cell_type": "code",
   "execution_count": 7,
   "id": "97e0aec0",
   "metadata": {
    "scrolled": true
   },
   "outputs": [],
   "source": [
    "def test() -> None:\n",
    "    \"\"\"\n",
    "    Tests for correctness of average energy calculations\n",
    "\n",
    "    Keyword arguments:\n",
    "    None\n",
    "\n",
    "    Returns:\n",
    "    None\n",
    "    \"\"\"\n",
    "    T_array = np.arange(1, 5, 0.1)\n",
    "    Lx_4 = [-1.99715844, -1.99396091, -1.98856632, -1.98016965, -1.96786355, -1.95064256,\n",
    "     -1.9274244, -1.89711215, -1.85871667, -1.81153907, -1.75538029, -1.69071311, \n",
    "     -1.61874282, -1.54131149, -1.46065977, -1.37911648, -1.29880759, -1.22145424,\n",
    "     -1.14828469, -1.0800446, -1.01706963, -0.95938399, -0.90679838, -0.85899291,\n",
    "     -0.8155803, -0.77615005, -0.74029707, -0.70763857, -0.67782287, -0.65053286,\n",
    "     -0.62548613, -0.60243323, -0.58115501, -0.56145948, -0.5431787, -0.52616582,\n",
    "     -0.5102923, -0.49544555, -0.48152673, -0.46844889]\n",
    "\n",
    "    Lx_5 =  [-1.99715893, -1.99396296, -1.98857263, -1.98018387, -1.96788363, -1.95063964,\n",
    "     -1.92729692, -1.89661121, -1.85735639, -1.80853133, -1.74965024, -1.68103752,\n",
    "     -1.60399878, -1.52075577, -1.43412763, -1.3470633,  -1.26219309, -1.18153361,\n",
    "     -1.10638872, -1.03740747, -0.97472647, -0.918132,   -0.86720255, -0.82141645,\n",
    "     -0.78022445, -0.74309384, -0.70953215, -0.67909749, -0.65140075, -0.62610332,\n",
    "     -0.60291264, -0.58157686, -0.56187952, -0.54363452, -0.52668165, -0.51088271,\n",
    "     -0.49611811, -0.48228409, -0.46929029, -0.45705774]\n",
    "\n",
    "    assert np.allclose(get_average_izing_model_energy(4, 4, T_array), Lx_4)\n",
    "    assert np.allclose(get_average_izing_model_energy(5, 4, T_array), Lx_5)\n",
    "    print(\"All test passed!\")"
   ]
  },
  {
   "cell_type": "code",
   "execution_count": 8,
   "id": "cf09442a",
   "metadata": {},
   "outputs": [
    {
     "name": "stdout",
     "output_type": "stream",
     "text": [
      "All test passed!\n"
     ]
    }
   ],
   "source": [
    "test()"
   ]
  },
  {
   "cell_type": "markdown",
   "metadata": {},
   "source": [
    "## Simulation"
   ]
  },
  {
   "cell_type": "code",
   "execution_count": 9,
   "id": "1ba7e639",
   "metadata": {},
   "outputs": [],
   "source": [
    "L_x_min = 2\n",
    "L_x_max = 8\n",
    "L_y = 4\n",
    "T_min = 1\n",
    "T_max = 5"
   ]
  },
  {
   "cell_type": "code",
   "execution_count": 11,
   "id": "0a92c7a7",
   "metadata": {},
   "outputs": [
    {
     "name": "stdout",
     "output_type": "stream",
     "text": [
      "Time elapsed for L_x=2 is 0.001079499998013489\n",
      "Time elapsed for L_x=3 is 0.0031290000006265473\n",
      "Time elapsed for L_x=4 is 0.027574399999139132\n",
      "Time elapsed for L_x=5 is 0.305368900000758\n",
      "Time elapsed for L_x=6 is 5.7371569000024465\n",
      "Time elapsed for L_x=7 is 96.47771139999895\n",
      "Time elapsed for L_x=8 is 1595.4487833999992\n"
     ]
    }
   ],
   "source": [
    "simulate(L_x_min, L_x_max, L_y, T_min, T_max, \"data.npy\")"
   ]
  },
  {
   "cell_type": "markdown",
   "metadata": {},
   "source": [
    "## Results"
   ]
  },
  {
   "cell_type": "code",
   "execution_count": 13,
   "metadata": {},
   "outputs": [
    {
     "name": "stdout",
     "output_type": "stream",
     "text": [
      "L_x = 2\n",
      "[-1.99509474 -1.98967862 -1.98074878 -1.96731117 -1.94851445 -1.92375828\n",
      " -1.89277291 -1.85565639 -1.81286316 -1.76514762 -1.71347563 -1.65892227\n",
      " -1.60257405 -1.5454491  -1.48844224 -1.43229537 -1.3775895  -1.3247523\n",
      " -1.27407538 -1.22573609 -1.17982015 -1.13634286 -1.09526756 -1.05652101\n",
      " -1.02000562 -0.98560898 -0.9532109  -0.92268862 -0.89392045 -0.86678827\n",
      " -0.84117913 -0.8169862  -0.79410926 -0.77245486 -0.75193626 -0.73247322\n",
      " -0.71399168 -0.69642337 -0.67970548 -0.66378023]\n",
      "L_x = 3\n",
      "[-1.99711779 -1.99383665 -1.98825271 -1.97949351 -1.96659182 -1.94853206\n",
      " -1.92432618 -1.89312223 -1.85433583 -1.80777902 -1.75375117 -1.69305981\n",
      " -1.62695673 -1.55700043 -1.48487836 -1.41223059 -1.34050963 -1.27089443\n",
      " -1.20425882 -1.14118312 -1.08199278 -1.02680913 -0.97560137 -0.92823315\n",
      " -0.88450084 -0.84416295 -0.80696158 -0.77263715 -0.7409381  -0.71162671\n",
      " -0.68448222 -0.65930219 -0.63590256 -0.61411702 -0.5937959  -0.57480491\n",
      " -0.55702372 -0.54034463 -0.52467121 -0.50991714]\n",
      "L_x = 4\n",
      "[-1.99715844 -1.99396091 -1.98856632 -1.98016965 -1.96786355 -1.95064256\n",
      " -1.9274244  -1.89711215 -1.85871667 -1.81153907 -1.75538029 -1.69071311\n",
      " -1.61874282 -1.54131149 -1.46065977 -1.37911648 -1.29880759 -1.22145424\n",
      " -1.14828469 -1.0800446  -1.01706963 -0.95938399 -0.90679838 -0.85899291\n",
      " -0.8155803  -0.77615005 -0.74029707 -0.70763857 -0.67782287 -0.65053286\n",
      " -0.62548613 -0.60243323 -0.58115501 -0.56145948 -0.5431787  -0.52616582\n",
      " -0.5102923  -0.49544555 -0.48152673 -0.46844889]\n",
      "L_x = 5\n",
      "[-1.99715893 -1.99396296 -1.98857263 -1.98018387 -1.96788363 -1.95063964\n",
      " -1.92729692 -1.89661121 -1.85735639 -1.80853133 -1.74965024 -1.68103752\n",
      " -1.60399878 -1.52075577 -1.43412763 -1.3470633  -1.26219309 -1.18153361\n",
      " -1.10638872 -1.03740747 -0.97472647 -0.918132   -0.86720255 -0.82141645\n",
      " -0.78022445 -0.74309384 -0.70953215 -0.67909749 -0.65140075 -0.62610332\n",
      " -0.60291264 -0.58157686 -0.56187952 -0.54363452 -0.52668165 -0.51088271\n",
      " -0.49611811 -0.48228409 -0.46929029 -0.45705774]\n",
      "L_x = 6\n",
      "[-1.99715857 -1.99396113 -1.9885651  -1.98015781 -1.96780519 -1.95042956\n",
      " -1.92678909 -1.89549406 -1.8551112  -1.80440326 -1.74270304 -1.67032538\n",
      " -1.58882722 -1.50092868 -1.41005807 -1.31969261 -1.23276666 -1.15134108\n",
      " -1.07656139 -1.00881115 -0.94793988 -0.8934793  -0.84480933 -0.8012682\n",
      " -0.76221687 -0.72707144 -0.69531564 -0.66650184 -0.6402464  -0.61622247\n",
      " -0.59415234 -0.57380002 -0.55496464 -0.53747479 -0.52118369 -0.50596511\n",
      " -0.49171009 -0.47832415 -0.46572503 -0.45384075]\n",
      "L_x = 7\n",
      "[-1.9971582  -1.99395917 -1.98855692 -1.98012917 -1.96771861 -1.95019835\n",
      " -1.92623542 -1.89429394 -1.85274448 -1.80014858 -1.73572886 -1.65989967\n",
      " -1.57458934 -1.48308936 -1.38940408 -1.29738702 -1.21005576 -1.12930451\n",
      " -1.05597909 -0.99014354 -0.93137801 -0.87902058 -0.83233016 -0.79058107\n",
      " -0.75310988 -0.71933295 -0.68874798 -0.66092782 -0.63551132 -0.61219363\n",
      " -0.59071721 -0.5708639  -0.55244826 -0.53531194 -0.51931914 -0.50435283\n",
      " -0.49031168 -0.47710754 -0.46466335 -0.45291152]\n",
      "L_x = 8\n",
      "[-1.99715782 -1.99395721 -1.9885487  -1.98010037 -1.96763138 -1.94996516\n",
      " -1.9256774  -1.89308837 -1.8503837  -1.7959552  -1.72897957 -1.65006498\n",
      " -1.5615988  -1.46746091 -1.37213468 -1.27966284 -1.1929477  -1.11358152\n",
      " -1.04206616 -0.97817672 -0.92129525 -0.87064766 -0.82544474 -0.78495362\n",
      " -0.74852625 -0.71560459 -0.68571477 -0.65845691 -0.63349414 -0.61054233\n",
      " -0.58936111 -0.56974634 -0.55152388 -0.53454443 -0.51867942 -0.50381755\n",
      " -0.48986204 -0.47672839 -0.46434244 -0.45263888]\n"
     ]
    }
   ],
   "source": [
    "print_results(\"data.npy\")"
   ]
  },
  {
   "cell_type": "code",
   "execution_count": 14,
   "id": "21493caa",
   "metadata": {
    "scrolled": false
   },
   "outputs": [
    {
     "data": {
      "image/png": "[encoded data removed]",
      "text/plain": [
       "<Figure size 1300x1000 with 2 Axes>"
      ]
     },
     "metadata": {},
     "output_type": "display_data"
    }
   ],
   "source": [
    "plot_results(\"data.npy\")"
   ]
  },
  {
   "cell_type": "code",
   "execution_count": null,
   "id": "2303d62d",
   "metadata": {},
   "outputs": [],
   "source": []
  }
 ],
 "metadata": {
  "kernelspec": {
   "display_name": "Python 3 (ipykernel)",
   "language": "python",
   "name": "python3"
  },
  "language_info": {
   "codemirror_mode": {
    "name": "ipython",
    "version": 3
   },
   "file_extension": ".py",
   "mimetype": "text/x-python",
   "name": "python",
   "nbconvert_exporter": "python",
   "pygments_lexer": "ipython3",
   "version": "3.11.7"
  }
 },
 "nbformat": 4,
 "nbformat_minor": 5
}
