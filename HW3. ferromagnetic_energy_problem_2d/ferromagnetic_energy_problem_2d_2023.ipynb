{
 "cells": [
  {
   "cell_type": "markdown",
   "id": "b698fd64-2a72-4c31-868c-dd8ada50e242",
   "metadata": {},
   "source": [
    "# Энергия ферромагнетика 2D (2023)"
   ]
  },
  {
   "cell_type": "markdown",
   "id": "fe9d5632-1d5c-428a-9b1d-5bcfdb58cb72",
   "metadata": {},
   "source": [
    "### Условие задачи\n",
    "\n",
    "**Дано:**\n",
    "- двумерная решетка молекул, расположенных в узлах кристаллической решетки, размеров $L_x \\times L_y$ с периодическими границами\n",
    "- каждая молекула обладает спином +1 или -1\n",
    "- межмолекулярное взаимодействие описывается константами $J_{ij} = 1$\n",
    "- модель Изинга\n",
    "\n",
    "\n",
    "**Требуется:**\n",
    "- согласно модели Изинга рассчитать нормированное значение средней энергии $\\frac{\\langle E \\rangle}{Lx Ly}$ для указанной решетки молекул при:\n",
    "    - размерах решетки $L_x \\in [2, 3, ..., 8]$, $L_y = 4$\n",
    "    - температурах $kT \\in [1.0, 5.0)$ с шагом $0.1$\n",
    "- сохранить массив средних энергий при помощи `np.save`\n",
    "- вывести время расчета каждой итерации по $Lx$ или по $k T$\n",
    "- отобразить цветовую карту:\n",
    "    - ось абсцисс - $L_x$,\n",
    "    - ось ординат - $k T$,\n",
    "    - цветом отобразить нормированное значение средней энергии $\\frac{\\langle E \\rangle}{Lx Ly}$,\n",
    "    - подписать оси,\n",
    "    - отобразить цветовую шкалу (`colorbar`),\n",
    "    - засечки должны соответствовать значениям $Lx, kT$.\n",
    "- к каждой функции добавить `docstring` с описанием того, что функция делает, всех параметров и возвращаемого значения    \n",
    "\n",
    "**Описание:**\n",
    "\n",
    "**Одномерный случай**\n",
    "\n",
    "Модель Изинга является моделью магнетика. Пусть этот магнетик состоит из молекул, расположенных в узлах регулярной решетки. Пусть всего таких узлов будет $N$ штук, с индексами $i=1,\\ldots, N$.\n",
    "\n",
    "Предположим, что каждая молекула может быть представлена в виде магнитной стрелки, которая всегда либо направлена вдоль некоторой заданной оси, либо в противоположном направлении. То есть каждая молекула $i$ имеет две конфигурации, которые можно описывать с помощью \"спиновой\" переменной $\\sigma_i$. Эта переменная принимает значение $+1$ (параллельно оси, спин направлен вверх) и $-1$ (антипараллельно оси, спин направлен вниз).\n",
    "\n",
    "Пусть $\\sigma = \\{\\sigma_1, \\sigma_2, \\ldots, \\sigma_N\\}$ обозначает набор значений всех $N$ спинов. Имеется $2^N$ различных наборов $\\sigma$, и каждый из них описывает некоторое состояние системы. \n",
    "\n",
    "Гамильтониан системы  состоит из двух частей: первая $E_0$ включает вклад межмолекулярных сил внутри магнетика, а вторая $E_1(\\sigma)$ вклад от взаимодействий каждого спина с внешним магнитным полем (здесь считается нулевым). \n",
    "$$H(\\sigma)=E_0(\\sigma)+E_1(\\sigma)$$\n",
    "\n",
    "В любой физической системе мы предполагаем все взаимодействия инвариантными по отношению к обращению времени, что означает инвариантность $E$ при изменении знаков всех полей и намагниченностей. Энергия должна быть четной функцией от $\\sigma$:\n",
    "$$E_0(\\sigma_1,\\ldots, \\sigma_N)=E_0(-\\sigma_1,\\ldots, -\\sigma_N)$$\n",
    "\n",
    "Энергия системы при нулевом внешнем магнитном поле равна сумме произведений **соседних** спинов на константы взаимодействия $J_{ij}$\n",
    "$$E(\\sigma) = -\\sum_{i} J_{i,i+1}\\sigma_{i}\\sigma_{i+1} $$\n",
    "\n",
    "Вероятность находиться в состоянии $\\sigma$\n",
    "$$P(\\sigma)=\\frac{e^{-\\beta E(\\sigma)}}{Z},$$\n",
    "\tгде $Z = \\sum_{\\sigma} e^{-\\beta E(\\sigma)}-$ статистическая сумма, $\\beta = \\frac{1}{k T}-$ обратная температура, $k-$ константа Больцмана.\n",
    "\t\n",
    "Средняя энергия системы \n",
    "$$\\langle E \\rangle = \\frac{1}{Z}\\sum_{\\{\\sigma \\}} E(\\sigma)e^{-\\frac{E(\\sigma)}{kT}}$$\n",
    "рассчитывается по всевозможным состояниям системы, т.е. всевозможным наборам $\\sigma$.\n",
    "\n",
    "**Двумерный случай**\n",
    "\n",
    "В случае двумерной решетки энергия системы при нулевом внешнем магнитном поле вычисляется следующим образом: \n",
    "$$E(\\sigma) = -\\sum_{i,j} J_{ij}(\\sigma_{i,j}\\sigma_{i+1,j} + \\sigma_{i,j}\\sigma_{i,j+1})$$\n",
    "\n",
    "\n",
    "**Проверка корректности результатов**\n",
    "\n",
    "Нормированное значение средней энергии при температурах $kT \\in [1.0, 5.0)$:\n",
    "\n",
    "- для $L_x=4$\n",
    "\n",
    "```\n",
    " -1.99715844 -1.99396091 -1.98856632 -1.98016965 -1.96786355 -1.95064256\n",
    " -1.9274244  -1.89711215 -1.85871667 -1.81153907 -1.75538029 -1.69071311\n",
    " -1.61874282 -1.54131149 -1.46065977 -1.37911648 -1.29880759 -1.22145424\n",
    " -1.14828469 -1.0800446  -1.01706963 -0.95938399 -0.90679838 -0.85899291\n",
    " -0.8155803  -0.77615005 -0.74029707 -0.70763857 -0.67782287 -0.65053286\n",
    " -0.62548613 -0.60243323 -0.58115501 -0.56145948 -0.5431787  -0.52616582\n",
    " -0.5102923  -0.49544555 -0.48152673 -0.46844889\n",
    "```\n",
    "\n",
    "- для $L_x=5$\n",
    "\n",
    "```\n",
    " -1.99715893 -1.99396296 -1.98857263 -1.98018387 -1.96788363 -1.95063964\n",
    " -1.92729692 -1.89661121 -1.85735639 -1.80853133 -1.74965024 -1.68103752\n",
    " -1.60399878 -1.52075577 -1.43412763 -1.3470633  -1.26219309 -1.18153361\n",
    " -1.10638872 -1.03740747 -0.97472647 -0.918132   -0.86720255 -0.82141645\n",
    " -0.78022445 -0.74309384 -0.70953215 -0.67909749 -0.65140075 -0.62610332\n",
    " -0.60291264 -0.58157686 -0.56187952 -0.54363452 -0.52668165 -0.51088271\n",
    " -0.49611811 -0.48228409 -0.46929029 -0.45705774\n",
    "```\n",
    "\n",
    "**Материалы:**\n",
    "- [Бэкстер Р., Вольский Е. П., Дайхин Л. И. Точно решаемые модели в статистической механике](https://yadi.sk/i/2oY4c0bL08pNiw)\n",
    "- [Пример хорошего `docstring`](https://github.com/numpy/numpy/blob/v1.21.0/numpy/linalg/linalg.py#L313-L395)\n",
    "- [Зиннуров Б.Д., Якименко В.Я. Магнитные свойства модели Изинга в низких размерностях (МКР)](https://miem.hse.ru/data/2018/05/24/1149431665/model_Izinga_-_Zinnurov_Yakimenko.pdf)\n",
    "\n",
    "\n",
    "**Правила оценивания:**\n",
    "\n",
    "- оценка за корректно выполненный расчет для количества молекул в цепочке $L_x$, баллов из 100:\n",
    "```\n",
    "    Lx    =   2,   3,   4,   5,    6,    7,     8\n",
    "    g(Lx) = 1.0, 1.8, 3.3, 6.4, 12.6, 24.9,  50.0\n",
    "```\n",
    "    \n",
    "- штрафы $p(i)$, баллов:\n",
    "    - не выведено время расчета - 20\n",
    "    - не выведены значения средней энергии - 20\n",
    "    - не построена карта - 20\n",
    "    - отсутствует `docstring` - 20\n",
    "    - менее значимые недоработки - 10\n",
    "\n",
    "\n",
    "- итоговая оценка за задание = $\\sum_{Lx=2}^{8}{g(Lx)} - \\sum_{i}{p(i)}$\n"
   ]
  },
  {
   "cell_type": "code",
   "execution_count": 123,
   "id": "74330501",
   "metadata": {},
   "outputs": [],
   "source": [
    "import numpy as np\n",
    "from numba import njit, prange, objmode\n",
    "import matplotlib.pyplot as plt\n",
    "from time import perf_counter\n",
    "import time"
   ]
  },
  {
   "cell_type": "code",
   "execution_count": 70,
   "id": "60e753ff",
   "metadata": {},
   "outputs": [],
   "source": [
    "class TimeIt:\n",
    "    def __enter__(self):\n",
    "        self.t = perf_counter()\n",
    "        return self\n",
    "    def __exit__(self, type, value, traceback):\n",
    "        self.t = perf_counter()-self.t"
   ]
  },
  {
   "cell_type": "code",
   "execution_count": 126,
   "id": "fa3e6c53",
   "metadata": {},
   "outputs": [],
   "source": [
    "@njit(parallel=True)\n",
    "def get_average_izing_model_energy(L_x:int, L_y:int, T_array:int):\n",
    "    N = L_x * L_y\n",
    "    J = 1\n",
    "    result = np.empty(len(T_array), dtype=np.float64)\n",
    "    for t in range(len(T_array)):\n",
    "        T= T_array[t]\n",
    "        average_energy = 0\n",
    "        Z = 0\n",
    "        for n in prange(2**N):\n",
    "            E = 0\n",
    "            k = np.int64(n)\n",
    "            configuration = np.empty(N,dtype=np.int8)\n",
    "            for i in range(N):\n",
    "                configuration[i] = ((k & 1) << 1) - 1\n",
    "                k >>=1\n",
    "            configuration = configuration.reshape(L_x, L_y)\n",
    "            for i in range(-1, L_x-1):\n",
    "                for j in range(-1,L_y-1):\n",
    "                    E-= J*configuration[i, j] * (configuration[i+1][j] +  configuration[i][j+1])\n",
    "            probability = np.exp(-E/T)\n",
    "            Z += probability\n",
    "            average_energy += E * probability\n",
    "        result[t] = average_energy/Z/N\n",
    "    return result\n",
    "                \n",
    "                        "
   ]
  },
  {
   "cell_type": "code",
   "execution_count": 156,
   "id": "97e0aec0",
   "metadata": {
    "scrolled": true
   },
   "outputs": [
    {
     "name": "stdout",
     "output_type": "stream",
     "text": [
      "All test passed\n"
     ]
    }
   ],
   "source": [
    "def test():\n",
    "    T_array = np.arange(1, 5, 0.1)\n",
    "    Lx_4 = [-1.99715844, -1.99396091, -1.98856632, -1.98016965, -1.96786355, -1.95064256,\n",
    "     -1.9274244, -1.89711215, -1.85871667, -1.81153907, -1.75538029, -1.69071311, \n",
    "     -1.61874282, -1.54131149, -1.46065977, -1.37911648, -1.29880759, -1.22145424,\n",
    "     -1.14828469, -1.0800446, -1.01706963, -0.95938399, -0.90679838, -0.85899291,\n",
    "     -0.8155803, -0.77615005, -0.74029707, -0.70763857, -0.67782287, -0.65053286,\n",
    "     -0.62548613, -0.60243323, -0.58115501, -0.56145948, -0.5431787, -0.52616582,\n",
    "     -0.5102923, -0.49544555, -0.48152673, -0.46844889]\n",
    "\n",
    "    Lx_5 =  [-1.99715893, -1.99396296, -1.98857263, -1.98018387, -1.96788363, -1.95063964,\n",
    "     -1.92729692, -1.89661121, -1.85735639, -1.80853133, -1.74965024, -1.68103752,\n",
    "     -1.60399878, -1.52075577, -1.43412763, -1.3470633,  -1.26219309, -1.18153361,\n",
    "     -1.10638872, -1.03740747, -0.97472647, -0.918132,   -0.86720255, -0.82141645,\n",
    "     -0.78022445, -0.74309384, -0.70953215, -0.67909749, -0.65140075, -0.62610332,\n",
    "     -0.60291264, -0.58157686, -0.56187952, -0.54363452, -0.52668165, -0.51088271,\n",
    "     -0.49611811, -0.48228409, -0.46929029, -0.45705774]\n",
    "\n",
    "    assert np.allclose(get_average_izing_model_energy(4, 4, T_array), Lx_4)\n",
    "    assert np.allclose(get_average_izing_model_energy(5, 4, T_array), Lx_5)\n",
    "    print(\"All test passed\")"
   ]
  },
  {
   "cell_type": "code",
   "execution_count": null,
   "id": "cf09442a",
   "metadata": {},
   "outputs": [],
   "source": [
    "test()"
   ]
  },
  {
   "cell_type": "code",
   "execution_count": 127,
   "id": "8662015c",
   "metadata": {},
   "outputs": [],
   "source": [
    "def simulate(L_x_min, L_x_max, L_y, T_min, T_max):\n",
    "    L_x_array = np.arange(L_x_min, L_x_max + 1)\n",
    "    T_array = np.arange(T_min, T_max, 0.1)\n",
    "    data = np.empty((len(L_x_array), len(T_array)), dtype=np.float64)\n",
    "    for ind, L_x in enumerate(L_x_array):\n",
    "        with TimeIt() as timer:\n",
    "            data[ind] = get_average_izing_model_energy(L_x, L_y, T_array)\n",
    "        print(f\"Time elapsed for {L_x=} is {timer.t}\")\n",
    "    np.save(\"data.npy\", data)"
   ]
  },
  {
   "cell_type": "code",
   "execution_count": 159,
   "id": "1ba7e639",
   "metadata": {},
   "outputs": [],
   "source": [
    "L_x_min = 2\n",
    "L_x_max = 6\n",
    "L_y = 4\n",
    "T_min = 1\n",
    "T_max = 5"
   ]
  },
  {
   "cell_type": "code",
   "execution_count": 160,
   "id": "0a92c7a7",
   "metadata": {},
   "outputs": [
    {
     "name": "stdout",
     "output_type": "stream",
     "text": [
      "Time elapsed for L_x=2 is 0.011669832994812168\n",
      "Time elapsed for L_x=3 is 0.011817540987976827\n",
      "Time elapsed for L_x=4 is 0.07863362500211224\n",
      "Time elapsed for L_x=5 is 0.6379976250027539\n",
      "Time elapsed for L_x=6 is 9.643405292008538\n"
     ]
    }
   ],
   "source": [
    "simulate(L_x_min, L_x_max, L_y, T_min, T_max)"
   ]
  },
  {
   "cell_type": "code",
   "execution_count": 155,
   "id": "21493caa",
   "metadata": {
    "scrolled": false
   },
   "outputs": [],
   "source": [
    "data = np.load(\"data.npy\")"
   ]
  },
  {
   "cell_type": "code",
   "execution_count": 154,
   "id": "8aee234a",
   "metadata": {},
   "outputs": [
    {
     "data": {
      "image/png": "[encoded data removed]",
      "text/plain": [
       "<Figure size 432x288 with 2 Axes>"
      ]
     },
     "metadata": {
      "needs_background": "light"
     },
     "output_type": "display_data"
    }
   ],
   "source": [
    "plt.pcolormesh(data, cmap = \"inferno\")\n",
    "plt.yticks(ticks = np.arange(len(data)),labels = np.arange(L_x_min, L_x_max - 2 + 1))\n",
    "plt.xticks(ticks = np.arange(0, len(data[0]) + 1,5), labels = np.arange(T_min,T_max + 0.1,0.5))\n",
    "plt.ylabel(\"$L_x$\")\n",
    "plt.xlabel(\"T\")\n",
    "plt.colorbar()\n",
    "plt.show()"
   ]
  },
  {
   "cell_type": "code",
   "execution_count": null,
   "id": "2303d62d",
   "metadata": {},
   "outputs": [],
   "source": []
  }
 ],
 "metadata": {
  "kernelspec": {
   "display_name": "Python 3 (ipykernel)",
   "language": "python",
   "name": "python3"
  },
  "language_info": {
   "codemirror_mode": {
    "name": "ipython",
    "version": 3
   },
   "file_extension": ".py",
   "mimetype": "text/x-python",
   "name": "python",
   "nbconvert_exporter": "python",
   "pygments_lexer": "ipython3",
   "version": "3.9.7"
  }
 },
 "nbformat": 4,
 "nbformat_minor": 5
}
